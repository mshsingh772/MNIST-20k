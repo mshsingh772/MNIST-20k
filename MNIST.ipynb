{
 "cells": [
  {
   "cell_type": "code",
   "execution_count": 1,
   "metadata": {},
   "outputs": [],
   "source": [
    "import torch\n",
    "from torchvision import datasets, transforms\n",
    "from torch.utils.data import DataLoader\n",
    "\n",
    "def get_data_loaders(batch_size=64, data_dir=\"data\"):\n",
    "    \"\"\"Create and return train and test data loaders.\"\"\"\n",
    "    transform = transforms.Compose([\n",
    "        transforms.ToTensor(),\n",
    "        transforms.Normalize((0.1307,), (0.3081,))\n",
    "    ])\n",
    "\n",
    "    # Download and load training data\n",
    "    train_dataset = datasets.MNIST(\n",
    "        root=data_dir,\n",
    "        train=True,\n",
    "        download=True,\n",
    "        transform=transform\n",
    "    )\n",
    "    train_loader = DataLoader(\n",
    "        train_dataset,\n",
    "        batch_size=batch_size,\n",
    "        shuffle=True\n",
    "    )\n",
    "\n",
    "    # Download and load test data\n",
    "    test_dataset = datasets.MNIST(\n",
    "        root=data_dir,\n",
    "        train=False,\n",
    "        download=True,\n",
    "        transform=transform\n",
    "    )\n",
    "    test_loader = DataLoader(\n",
    "        test_dataset,\n",
    "        batch_size=batch_size,\n",
    "        shuffle=False\n",
    "    )\n",
    "\n",
    "    print(f\"\\nDataset sizes:\")\n",
    "    print(f\"Training set: {len(train_dataset):,} images\")\n",
    "    print(f\"Test set:     {len(test_dataset):,} images\")\n",
    "    print(f\"Batch size:   {batch_size}\")\n",
    "    print(f\"Training batches: {len(train_loader)}\")\n",
    "    print(f\"Test batches:     {len(test_loader)}\\n\")\n",
    "\n",
    "    return train_loader, test_loader "
   ]
  },
  {
   "cell_type": "code",
   "execution_count": 2,
   "metadata": {},
   "outputs": [],
   "source": [
    "import torch.nn as nn\n",
    "import torch.nn.functional as F\n",
    "class MNISTModel(nn.Module):\n",
    "    def __init__(self):\n",
    "        super(MNISTModel, self).__init__()\n",
    "        self.conv1 = nn.Conv2d(1, 8, 3, padding=1, bias=False) #28\n",
    "        self.norm1 = nn.BatchNorm2d(8)\n",
    "        self.drop = nn.Dropout2d(0.1)\n",
    "        self.conv2 = nn.Conv2d(8, 12, 3, padding=1, bias=False) #28\n",
    "        self.norm2 = nn.BatchNorm2d(12)\n",
    "        self.drop = nn.Dropout2d(0.1)\n",
    "        self.pool = nn.MaxPool2d(2, 2) #14\n",
    "\n",
    "        self.conv3 = nn.Conv2d(12, 16, 3, padding=1, bias=False) #14\n",
    "        self.norm3 = nn.BatchNorm2d(16)\n",
    "        self.drop = nn.Dropout2d(0.1)\n",
    "        self.conv4 = nn.Conv2d(16, 20, 3, padding=1, bias=False) #14\n",
    "        self.norm4 = nn.BatchNorm2d(20)\n",
    "        self.drop = nn.Dropout2d(0.1)\n",
    "        self.pool = nn.MaxPool2d(2,2) #7\n",
    "\n",
    "        self.conv5 = nn.Conv2d(20, 24, 3, bias=False) #5\n",
    "        self.norm5 = nn.BatchNorm2d(24)\n",
    "        self.conv6 = nn.Conv2d(24, 28, 3, bias=False) #3\n",
    "        self.antman = nn.Conv2d(28, 10 , 1, bias=False)#3\n",
    "        self.gap = nn.AvgPool2d(3)#1\n",
    "\n",
    "    def forward(self, x):\n",
    "      x = F.relu(self.conv1(x))\n",
    "      x = self.norm1(x)\n",
    "      x = self.drop(x)\n",
    "      x = F.relu(self.conv2(x))\n",
    "      x = self.norm2(x)\n",
    "      x = self.drop(x)\n",
    "      x = self.pool(x)\n",
    "\n",
    "      x = F.relu(self.conv3(x))\n",
    "      x = self.norm3(x)\n",
    "      x = self.drop(x)\n",
    "      x = F.relu(self.conv4(x))\n",
    "      x = self.norm4(x)\n",
    "      x = self.drop(x)\n",
    "      x = self.pool(x)\n",
    "\n",
    "      x = F.relu(self.conv5(x))\n",
    "      x = self.norm5(x)\n",
    "      x = F.relu(self.conv6(x))\n",
    "      x = self.antman(x)\n",
    "      x = self.gap(x)\n",
    "      x = x.view(-1, 10)\n",
    "\n",
    "      return F.log_softmax(x, dim=1)"
   ]
  },
  {
   "cell_type": "code",
   "execution_count": 3,
   "metadata": {},
   "outputs": [],
   "source": [
    "import torch\n",
    "import torch.nn as nn\n",
    "import torch.optim as optim\n",
    "from tqdm import tqdm\n",
    "import os\n",
    "\n",
    "class Trainer:\n",
    "    def __init__(self, model, train_loader, test_loader, \n",
    "                 learning_rate=0.001, device=None):\n",
    "        self.device = device if device else torch.device(\"cuda\" if torch.cuda.is_available() else \"cpu\")\n",
    "        self.model = model.to(self.device)\n",
    "        self.train_loader = train_loader\n",
    "        self.test_loader = test_loader\n",
    "        self.criterion = nn.CrossEntropyLoss()\n",
    "        self.optimizer = optim.Adam(model.parameters(), lr=learning_rate)\n",
    "\n",
    "    def train_epoch(self):\n",
    "        self.model.train()\n",
    "        total_loss = 0\n",
    "        correct = 0\n",
    "        total = 0\n",
    "        \n",
    "        for batch_idx, (data, target) in enumerate(tqdm(self.train_loader, desc=\"Training\")):\n",
    "            data, target = data.to(self.device), target.to(self.device)\n",
    "            self.optimizer.zero_grad()\n",
    "            output = self.model(data)\n",
    "            loss = self.criterion(output, target)\n",
    "            loss.backward()\n",
    "            self.optimizer.step()\n",
    "            \n",
    "            total_loss += loss.item()\n",
    "            pred = output.argmax(dim=1, keepdim=True)\n",
    "            correct += pred.eq(target.view_as(pred)).sum().item()\n",
    "            total += target.size(0)\n",
    "            \n",
    "        avg_loss = total_loss / len(self.train_loader)\n",
    "        accuracy = 100. * correct / total\n",
    "        return avg_loss, accuracy\n",
    "\n",
    "    def evaluate(self):\n",
    "        self.model.eval()\n",
    "        test_loss = 0\n",
    "        correct = 0\n",
    "        total = 0\n",
    "        \n",
    "        with torch.no_grad():\n",
    "            for data, target in tqdm(self.test_loader, desc=\"Testing \"):\n",
    "                data, target = data.to(self.device), target.to(self.device)\n",
    "                output = self.model(data)\n",
    "                test_loss += self.criterion(output, target).item()\n",
    "                pred = output.argmax(dim=1, keepdim=True)\n",
    "                correct += pred.eq(target.view_as(pred)).sum().item()\n",
    "                total += target.size(0)\n",
    "\n",
    "        avg_loss = test_loss / len(self.test_loader)\n",
    "        accuracy = 100. * correct / total\n",
    "        return avg_loss, accuracy\n",
    "\n",
    "    def train(self, n_epochs=5, model_save_path=\"models/mnist_model.pth\"):\n",
    "        # Create models directory if it doesn't exist\n",
    "        os.makedirs(os.path.dirname(model_save_path), exist_ok=True)\n",
    "        \n",
    "        best_accuracy = 0.0\n",
    "        print(\"\\nStarting training...\")\n",
    "        print(\"-\" * 60)\n",
    "        \n",
    "        for epoch in range(n_epochs):\n",
    "            print(f\"\\nEpoch [{epoch+1}/{n_epochs}]\")\n",
    "            \n",
    "            # Training phase\n",
    "            train_loss, train_acc = self.train_epoch()\n",
    "            \n",
    "            # Testing phase\n",
    "            test_loss, test_acc = self.evaluate()\n",
    "            \n",
    "            # Print metrics\n",
    "            print(\"\\nMetrics:\")\n",
    "            print(f\"{'Train Loss':>12}: {train_loss:.4f}  {'Train Accuracy':>16}: {train_acc:.2f}%\")\n",
    "            print(f\"{'Test Loss':>12}: {test_loss:.4f}  {'Test Accuracy':>16}: {test_acc:.2f}%\")\n",
    "            \n",
    "            # Save best model\n",
    "            if test_acc > best_accuracy:\n",
    "                best_accuracy = test_acc\n",
    "                torch.save(self.model.state_dict(), model_save_path)\n",
    "                print(f\"\\n🔥 New best model saved! (Accuracy: {test_acc:.2f}%)\")\n",
    "            \n",
    "            print(\"-\" * 60)\n",
    "        \n",
    "        print(f\"\\nTraining completed! Best test accuracy: {best_accuracy:.2f}%\")"
   ]
  },
  {
   "cell_type": "code",
   "execution_count": 4,
   "metadata": {},
   "outputs": [
    {
     "name": "stdout",
     "output_type": "stream",
     "text": [
      "Using device: cuda\n",
      "\n",
      "Dataset sizes:\n",
      "Training set: 60,000 images\n",
      "Test set:     10,000 images\n",
      "Batch size:   64\n",
      "Training batches: 938\n",
      "Test batches:     157\n",
      "\n",
      "\n",
      "Model Parameters: 16,352\n",
      "\n",
      "Starting training...\n",
      "------------------------------------------------------------\n",
      "\n",
      "Epoch [1/14]\n"
     ]
    },
    {
     "name": "stderr",
     "output_type": "stream",
     "text": [
      "Training: 100%|███████████████████████████████████████████████████████████████████████████| 938/938 [00:17<00:00, 54.57it/s]\n",
      "Testing : 100%|███████████████████████████████████████████████████████████████████████████| 157/157 [00:02<00:00, 69.37it/s]\n"
     ]
    },
    {
     "name": "stdout",
     "output_type": "stream",
     "text": [
      "\n",
      "Metrics:\n",
      "  Train Loss: 0.2935    Train Accuracy: 91.54%\n",
      "   Test Loss: 0.0458     Test Accuracy: 98.54%\n",
      "\n",
      "🔥 New best model saved! (Accuracy: 98.54%)\n",
      "------------------------------------------------------------\n",
      "\n",
      "Epoch [2/14]\n"
     ]
    },
    {
     "name": "stderr",
     "output_type": "stream",
     "text": [
      "Training: 100%|███████████████████████████████████████████████████████████████████████████| 938/938 [00:16<00:00, 55.91it/s]\n",
      "Testing : 100%|███████████████████████████████████████████████████████████████████████████| 157/157 [00:02<00:00, 73.63it/s]\n"
     ]
    },
    {
     "name": "stdout",
     "output_type": "stream",
     "text": [
      "\n",
      "Metrics:\n",
      "  Train Loss: 0.0694    Train Accuracy: 97.83%\n",
      "   Test Loss: 0.0375     Test Accuracy: 98.83%\n",
      "\n",
      "🔥 New best model saved! (Accuracy: 98.83%)\n",
      "------------------------------------------------------------\n",
      "\n",
      "Epoch [3/14]\n"
     ]
    },
    {
     "name": "stderr",
     "output_type": "stream",
     "text": [
      "Training: 100%|███████████████████████████████████████████████████████████████████████████| 938/938 [00:16<00:00, 55.83it/s]\n",
      "Testing : 100%|███████████████████████████████████████████████████████████████████████████| 157/157 [00:02<00:00, 71.60it/s]\n"
     ]
    },
    {
     "name": "stdout",
     "output_type": "stream",
     "text": [
      "\n",
      "Metrics:\n",
      "  Train Loss: 0.0519    Train Accuracy: 98.39%\n",
      "   Test Loss: 0.0236     Test Accuracy: 99.24%\n",
      "\n",
      "🔥 New best model saved! (Accuracy: 99.24%)\n",
      "------------------------------------------------------------\n",
      "\n",
      "Epoch [4/14]\n"
     ]
    },
    {
     "name": "stderr",
     "output_type": "stream",
     "text": [
      "Training: 100%|███████████████████████████████████████████████████████████████████████████| 938/938 [00:16<00:00, 55.73it/s]\n",
      "Testing : 100%|███████████████████████████████████████████████████████████████████████████| 157/157 [00:02<00:00, 72.69it/s]\n"
     ]
    },
    {
     "name": "stdout",
     "output_type": "stream",
     "text": [
      "\n",
      "Metrics:\n",
      "  Train Loss: 0.0428    Train Accuracy: 98.69%\n",
      "   Test Loss: 0.0266     Test Accuracy: 99.18%\n",
      "------------------------------------------------------------\n",
      "\n",
      "Epoch [5/14]\n"
     ]
    },
    {
     "name": "stderr",
     "output_type": "stream",
     "text": [
      "Training: 100%|███████████████████████████████████████████████████████████████████████████| 938/938 [00:16<00:00, 55.99it/s]\n",
      "Testing : 100%|███████████████████████████████████████████████████████████████████████████| 157/157 [00:02<00:00, 73.26it/s]\n"
     ]
    },
    {
     "name": "stdout",
     "output_type": "stream",
     "text": [
      "\n",
      "Metrics:\n",
      "  Train Loss: 0.0407    Train Accuracy: 98.73%\n",
      "   Test Loss: 0.0267     Test Accuracy: 99.14%\n",
      "------------------------------------------------------------\n",
      "\n",
      "Epoch [6/14]\n"
     ]
    },
    {
     "name": "stderr",
     "output_type": "stream",
     "text": [
      "Training: 100%|███████████████████████████████████████████████████████████████████████████| 938/938 [00:16<00:00, 56.04it/s]\n",
      "Testing : 100%|███████████████████████████████████████████████████████████████████████████| 157/157 [00:02<00:00, 71.41it/s]\n"
     ]
    },
    {
     "name": "stdout",
     "output_type": "stream",
     "text": [
      "\n",
      "Metrics:\n",
      "  Train Loss: 0.0341    Train Accuracy: 98.94%\n",
      "   Test Loss: 0.0261     Test Accuracy: 99.16%\n",
      "------------------------------------------------------------\n",
      "\n",
      "Epoch [7/14]\n"
     ]
    },
    {
     "name": "stderr",
     "output_type": "stream",
     "text": [
      "Training: 100%|███████████████████████████████████████████████████████████████████████████| 938/938 [00:16<00:00, 55.49it/s]\n",
      "Testing : 100%|███████████████████████████████████████████████████████████████████████████| 157/157 [00:02<00:00, 74.01it/s]\n"
     ]
    },
    {
     "name": "stdout",
     "output_type": "stream",
     "text": [
      "\n",
      "Metrics:\n",
      "  Train Loss: 0.0314    Train Accuracy: 98.99%\n",
      "   Test Loss: 0.0230     Test Accuracy: 99.30%\n",
      "\n",
      "🔥 New best model saved! (Accuracy: 99.30%)\n",
      "------------------------------------------------------------\n",
      "\n",
      "Epoch [8/14]\n"
     ]
    },
    {
     "name": "stderr",
     "output_type": "stream",
     "text": [
      "Training: 100%|███████████████████████████████████████████████████████████████████████████| 938/938 [00:16<00:00, 55.81it/s]\n",
      "Testing : 100%|███████████████████████████████████████████████████████████████████████████| 157/157 [00:02<00:00, 71.93it/s]\n"
     ]
    },
    {
     "name": "stdout",
     "output_type": "stream",
     "text": [
      "\n",
      "Metrics:\n",
      "  Train Loss: 0.0286    Train Accuracy: 99.07%\n",
      "   Test Loss: 0.0210     Test Accuracy: 99.31%\n",
      "\n",
      "🔥 New best model saved! (Accuracy: 99.31%)\n",
      "------------------------------------------------------------\n",
      "\n",
      "Epoch [9/14]\n"
     ]
    },
    {
     "name": "stderr",
     "output_type": "stream",
     "text": [
      "Training: 100%|███████████████████████████████████████████████████████████████████████████| 938/938 [00:16<00:00, 55.75it/s]\n",
      "Testing : 100%|███████████████████████████████████████████████████████████████████████████| 157/157 [00:02<00:00, 70.28it/s]\n"
     ]
    },
    {
     "name": "stdout",
     "output_type": "stream",
     "text": [
      "\n",
      "Metrics:\n",
      "  Train Loss: 0.0268    Train Accuracy: 99.16%\n",
      "   Test Loss: 0.0216     Test Accuracy: 99.35%\n",
      "\n",
      "🔥 New best model saved! (Accuracy: 99.35%)\n",
      "------------------------------------------------------------\n",
      "\n",
      "Epoch [10/14]\n"
     ]
    },
    {
     "name": "stderr",
     "output_type": "stream",
     "text": [
      "Training: 100%|███████████████████████████████████████████████████████████████████████████| 938/938 [00:17<00:00, 55.02it/s]\n",
      "Testing : 100%|███████████████████████████████████████████████████████████████████████████| 157/157 [00:02<00:00, 71.14it/s]\n"
     ]
    },
    {
     "name": "stdout",
     "output_type": "stream",
     "text": [
      "\n",
      "Metrics:\n",
      "  Train Loss: 0.0248    Train Accuracy: 99.14%\n",
      "   Test Loss: 0.0210     Test Accuracy: 99.28%\n",
      "------------------------------------------------------------\n",
      "\n",
      "Epoch [11/14]\n"
     ]
    },
    {
     "name": "stderr",
     "output_type": "stream",
     "text": [
      "Training: 100%|███████████████████████████████████████████████████████████████████████████| 938/938 [00:16<00:00, 55.85it/s]\n",
      "Testing : 100%|███████████████████████████████████████████████████████████████████████████| 157/157 [00:02<00:00, 72.26it/s]\n"
     ]
    },
    {
     "name": "stdout",
     "output_type": "stream",
     "text": [
      "\n",
      "Metrics:\n",
      "  Train Loss: 0.0256    Train Accuracy: 99.16%\n",
      "   Test Loss: 0.0191     Test Accuracy: 99.34%\n",
      "------------------------------------------------------------\n",
      "\n",
      "Epoch [12/14]\n"
     ]
    },
    {
     "name": "stderr",
     "output_type": "stream",
     "text": [
      "Training: 100%|███████████████████████████████████████████████████████████████████████████| 938/938 [00:16<00:00, 55.58it/s]\n",
      "Testing : 100%|███████████████████████████████████████████████████████████████████████████| 157/157 [00:02<00:00, 73.40it/s]\n"
     ]
    },
    {
     "name": "stdout",
     "output_type": "stream",
     "text": [
      "\n",
      "Metrics:\n",
      "  Train Loss: 0.0224    Train Accuracy: 99.24%\n",
      "   Test Loss: 0.0196     Test Accuracy: 99.37%\n",
      "\n",
      "🔥 New best model saved! (Accuracy: 99.37%)\n",
      "------------------------------------------------------------\n",
      "\n",
      "Epoch [13/14]\n"
     ]
    },
    {
     "name": "stderr",
     "output_type": "stream",
     "text": [
      "Training: 100%|███████████████████████████████████████████████████████████████████████████| 938/938 [00:16<00:00, 55.43it/s]\n",
      "Testing : 100%|███████████████████████████████████████████████████████████████████████████| 157/157 [00:02<00:00, 72.71it/s]\n"
     ]
    },
    {
     "name": "stdout",
     "output_type": "stream",
     "text": [
      "\n",
      "Metrics:\n",
      "  Train Loss: 0.0219    Train Accuracy: 99.32%\n",
      "   Test Loss: 0.0201     Test Accuracy: 99.42%\n",
      "\n",
      "🔥 New best model saved! (Accuracy: 99.42%)\n",
      "------------------------------------------------------------\n",
      "\n",
      "Epoch [14/14]\n"
     ]
    },
    {
     "name": "stderr",
     "output_type": "stream",
     "text": [
      "Training: 100%|███████████████████████████████████████████████████████████████████████████| 938/938 [00:16<00:00, 55.57it/s]\n",
      "Testing : 100%|███████████████████████████████████████████████████████████████████████████| 157/157 [00:02<00:00, 73.69it/s]"
     ]
    },
    {
     "name": "stdout",
     "output_type": "stream",
     "text": [
      "\n",
      "Metrics:\n",
      "  Train Loss: 0.0208    Train Accuracy: 99.33%\n",
      "   Test Loss: 0.0187     Test Accuracy: 99.42%\n",
      "------------------------------------------------------------\n",
      "\n",
      "Training completed! Best test accuracy: 99.42%\n"
     ]
    },
    {
     "name": "stderr",
     "output_type": "stream",
     "text": [
      "\n"
     ]
    }
   ],
   "source": [
    "import torch\n",
    "# from src.dataset import get_data_loaders\n",
    "# from src.model import MNISTModel\n",
    "# from src.trainer import Trainer\n",
    "# from src.utils import plot_prediction\n",
    "\n",
    "def count_parameters(model):\n",
    "    return sum(p.numel() for p in model.parameters() if p.requires_grad)\n",
    "\n",
    "def main():\n",
    "    # Set random seed for reproducibility\n",
    "    torch.manual_seed(42)\n",
    "    \n",
    "    # Set device\n",
    "    device = torch.device(\"cuda\" if torch.cuda.is_available() else \"cpu\")\n",
    "    print(f\"Using device: {device}\")\n",
    "    \n",
    "    # Get data loaders\n",
    "    train_loader, test_loader = get_data_loaders(batch_size=64)\n",
    "    \n",
    "    # Initialize model\n",
    "    model = MNISTModel()\n",
    "    \n",
    "    # Print model parameters\n",
    "    num_params = count_parameters(model)\n",
    "    print(f\"\\nModel Parameters: {num_params:,}\")\n",
    "    \n",
    "    # Initialize trainer\n",
    "    trainer = Trainer(\n",
    "        model=model,\n",
    "        train_loader=train_loader,\n",
    "        test_loader=test_loader,\n",
    "        learning_rate=0.001,\n",
    "        device=device\n",
    "    )\n",
    "    \n",
    "    # Train the model\n",
    "    trainer.train(n_epochs=14)\n",
    "    \n",
    "    # Plot some predictions\n",
    "    # plot_prediction(model, test_loader, device)\n",
    "\n",
    "main()"
   ]
  },
  {
   "cell_type": "code",
   "execution_count": null,
   "metadata": {},
   "outputs": [],
   "source": []
  }
 ],
 "metadata": {
  "accelerator": "GPU",
  "colab": {
   "gpuType": "T4",
   "provenance": []
  },
  "kernelspec": {
   "display_name": "Python 3 (ipykernel)",
   "language": "python",
   "name": "python3"
  },
  "language_info": {
   "codemirror_mode": {
    "name": "ipython",
    "version": 3
   },
   "file_extension": ".py",
   "mimetype": "text/x-python",
   "name": "python",
   "nbconvert_exporter": "python",
   "pygments_lexer": "ipython3",
   "version": "3.12.7"
  }
 },
 "nbformat": 4,
 "nbformat_minor": 4
}
